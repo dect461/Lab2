{
 "cells": [
  {
   "cell_type": "code",
   "execution_count": 17,
   "id": "47c234c0-edf2-45b0-99f6-14f91da76707",
   "metadata": {},
   "outputs": [
    {
     "name": "stderr",
     "output_type": "stream",
     "text": [
      "C:\\Users\\404\\AppData\\Local\\Temp\\ipykernel_7368\\4220134842.py:16: DeprecationWarning: [Deprecated][in version 6.0.0]: Method signature's arguments 'range_name' and 'values' will change their order. We recommend using named arguments for minimal impact. In addition, the argument 'values' will be mandatory of type: 'List[List]'. (ex) Worksheet.update(values = [[]], range_name=) \n",
      "  sh.sheet1.update(('A' + str(i)), str(i))\n",
      "C:\\Users\\404\\AppData\\Local\\Temp\\ipykernel_7368\\4220134842.py:17: DeprecationWarning: [Deprecated][in version 6.0.0]: Method signature's arguments 'range_name' and 'values' will change their order. We recommend using named arguments for minimal impact. In addition, the argument 'values' will be mandatory of type: 'List[List]'. (ex) Worksheet.update(values = [[]], range_name=) \n",
      "  sh.sheet1.update(('B' + str(i)), str(start))\n",
      "C:\\Users\\404\\AppData\\Local\\Temp\\ipykernel_7368\\4220134842.py:18: DeprecationWarning: [Deprecated][in version 6.0.0]: Method signature's arguments 'range_name' and 'values' will change their order. We recommend using named arguments for minimal impact. In addition, the argument 'values' will be mandatory of type: 'List[List]'. (ex) Worksheet.update(values = [[]], range_name=) \n",
      "  sh.sheet1.update(('C' + str(i)), str(zombies[i-1]))\n"
     ]
    },
    {
     "name": "stdout",
     "output_type": "stream",
     "text": [
      "30,76923076923077\n",
      "30,76923076923077\n",
      "30,76923076923077\n",
      "30,76923076923077\n",
      "30,76923076923077\n",
      "30,76923076923077\n",
      "30,76923076923077\n",
      "30,76923076923077\n",
      "30,76923076923077\n",
      "30,76923076923077\n",
      "30,76923076923077\n"
     ]
    }
   ],
   "source": [
    "import gspread\n",
    "import numpy as np\n",
    "gc = gspread.service_account(filename='unitydatascience-400014-da50a8398902.json')\n",
    "sh = gc.open(\"UnitySheets\")\n",
    "zombies = np.random.randint(10, 100, 11)\n",
    "mon = list(range(1,11))\n",
    "start = 10\n",
    "i = 0\n",
    "while i <= len(mon):\n",
    "    i += 1\n",
    "    if i == 0:\n",
    "        continue\n",
    "    else:\n",
    "        start = (int(start) + zombies[i-1])\n",
    "        start = str(start)\n",
    "        sh.sheet1.update(('A' + str(i)), str(i))\n",
    "        sh.sheet1.update(('B' + str(i)), str(start))\n",
    "        sh.sheet1.update(('C' + str(i)), str(zombies[i-1]))\n",
    "        print(zombiesProsent)"
   ]
  },
  {
   "cell_type": "code",
   "execution_count": null,
   "id": "c6f0aa0a-67ba-49a6-8302-0e2e7b121986",
   "metadata": {},
   "outputs": [],
   "source": []
  },
  {
   "cell_type": "code",
   "execution_count": null,
   "id": "b2998e28-ff09-457f-9447-efb2fa6db699",
   "metadata": {},
   "outputs": [],
   "source": []
  }
 ],
 "metadata": {
  "kernelspec": {
   "display_name": "Python 3 (ipykernel)",
   "language": "python",
   "name": "python3"
  },
  "language_info": {
   "codemirror_mode": {
    "name": "ipython",
    "version": 3
   },
   "file_extension": ".py",
   "mimetype": "text/x-python",
   "name": "python",
   "nbconvert_exporter": "python",
   "pygments_lexer": "ipython3",
   "version": "3.12.4"
  }
 },
 "nbformat": 4,
 "nbformat_minor": 5
}
